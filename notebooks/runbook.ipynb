{
 "cells": [
  {
   "cell_type": "markdown",
   "metadata": {
    "id": "CK3uTuqBKYf1"
   },
   "source": [
    "# Preparation"
   ]
  },
  {
   "cell_type": "markdown",
   "metadata": {
    "id": "-FJpgMcKJJ0X"
   },
   "source": [
    "## Environment info"
   ]
  },
  {
   "cell_type": "markdown",
   "metadata": {
    "id": "k3EHFS18JMVC"
   },
   "source": [
    "### OS"
   ]
  },
  {
   "cell_type": "code",
   "execution_count": null,
   "metadata": {
    "colab": {
     "base_uri": "https://localhost:8080/"
    },
    "id": "bCwXcXsnJN9i",
    "outputId": "39ad777e-6211-449d-8301-b248c794184a"
   },
   "outputs": [],
   "source": [
    "import platform\n",
    "print(platform.platform())"
   ]
  },
  {
   "cell_type": "markdown",
   "metadata": {
    "id": "qeYGEh04JSKG"
   },
   "source": [
    "### GPU"
   ]
  },
  {
   "cell_type": "code",
   "execution_count": null,
   "metadata": {
    "colab": {
     "base_uri": "https://localhost:8080/"
    },
    "id": "aFszOBI0NZ_n",
    "outputId": "cb616c3d-8880-4e9c-ac9e-c16f5c57a091"
   },
   "outputs": [],
   "source": [
    "import torch\n",
    "\n",
    "# Check if CUDA is available\n",
    "print(\"CUDA available:\", torch.cuda.is_available())\n",
    "print(\"CUDA device count:\", torch.cuda.device_count())\n",
    "if torch.cuda.is_available():\n",
    "    print(\"Current device:\", torch.cuda.current_device())\n",
    "    print(\"Device name:\", torch.cuda.get_device_name(0))\n",
    "    gpu_info = !nvidia-smi\n",
    "    cuda_info = !nvcc --version\n",
    "    print('**GPU INFO:**')\n",
    "    print('\\n'.join(gpu_info))\n",
    "    print('**CUDA INFO:**')\n",
    "    print('\\n'.join(cuda_info))\n",
    "else:\n",
    "    print(\"CUDA is not available on this system.\")\n",
    "\n"
   ]
  },
  {
   "cell_type": "markdown",
   "metadata": {
    "id": "5UDgJ2mkJa61"
   },
   "source": [
    "### Memory"
   ]
  },
  {
   "cell_type": "code",
   "execution_count": null,
   "metadata": {
    "colab": {
     "base_uri": "https://localhost:8080/"
    },
    "id": "1Dde7UHYJiUk",
    "outputId": "9728c038-2c87-4427-bb0c-4efb21a17e6a"
   },
   "outputs": [],
   "source": [
    "import psutil\n",
    "ram_gb = psutil.virtual_memory().total / 1e9\n",
    "print('Your runtime has {:.1f} gigabytes of available RAM\\n'.format(ram_gb))"
   ]
  },
  {
   "cell_type": "markdown",
   "metadata": {
    "id": "zU7EB_CRJkKG"
   },
   "source": [
    "### CPU"
   ]
  },
  {
   "cell_type": "code",
   "execution_count": null,
   "metadata": {
    "colab": {
     "base_uri": "https://localhost:8080/"
    },
    "id": "jVkUnf12Jk7G",
    "outputId": "b9fd51ce-ca72-4a45-89b7-78f35ec73e88"
   },
   "outputs": [],
   "source": [
    "print(f\"Your runtime has {psutil.cpu_count(logical=True)} processor(s)\")"
   ]
  },
  {
   "cell_type": "markdown",
   "metadata": {
    "id": "V9xQFiNMJmj4"
   },
   "source": [
    "### Python"
   ]
  },
  {
   "cell_type": "code",
   "execution_count": null,
   "metadata": {
    "colab": {
     "base_uri": "https://localhost:8080/"
    },
    "id": "53yJ8uEsJn2R",
    "outputId": "68d50b5d-16c5-4779-899b-a5672a23f5d9"
   },
   "outputs": [],
   "source": [
    "!python --version"
   ]
  },
  {
   "cell_type": "markdown",
   "metadata": {
    "id": "mbUbdrHiJpfj"
   },
   "source": [
    "## Setup"
   ]
  },
  {
   "cell_type": "markdown",
   "metadata": {
    "id": "ropb59JNJ0Du"
   },
   "source": [
    "### Configuration"
   ]
  },
  {
   "cell_type": "code",
   "execution_count": null,
   "metadata": {
    "colab": {
     "base_uri": "https://localhost:8080/"
    },
    "id": "8YbGQkL5J2A8",
    "outputId": "12da4092-d321-4ca4-bdb0-30d15931cf41"
   },
   "outputs": [],
   "source": [
    "import os\n",
    "\n",
    "ROOT_PATH = \"/content\"\n",
    "CODE_PATH = \"/content/src\"\n",
    "\n",
    "os.environ['CODE_PATH'] = CODE_PATH\n",
    "\n",
    "print(\"Root path:\", ROOT_PATH)\n",
    "#!ls \"$ROOT_PATH\"\n",
    "print(os.listdir(ROOT_PATH))\n"
   ]
  },
  {
   "cell_type": "markdown",
   "metadata": {
    "id": "4fQ0WZrMKHEb"
   },
   "source": [
    "### Download Source Code"
   ]
  },
  {
   "cell_type": "code",
   "execution_count": null,
   "metadata": {
    "colab": {
     "base_uri": "https://localhost:8080/"
    },
    "id": "DVufrzTMKImz",
    "outputId": "9c055a61-4d73-4850-db97-f400e67f7c8b"
   },
   "outputs": [],
   "source": [
    "# If directory \"src\" not exist then clone a new one\n",
    "!pwd\n",
    "![ -d \"$CODE_PATH\" ] || git clone --depth 1  --branch \"main\" https://github.com/aio25-mix002/m03-p0301 \"$CODE_PATH\"\n"
   ]
  },
  {
   "cell_type": "code",
   "execution_count": null,
   "metadata": {
    "colab": {
     "base_uri": "https://localhost:8080/"
    },
    "id": "sbm1YlSRKUjK",
    "outputId": "211880ce-6f7f-4b34-ead4-9e4358b0a0cb"
   },
   "outputs": [],
   "source": [
    "%cd \"$CODE_PATH\"\n",
    "!git clean -fdx\n",
    "!git status\n",
    "!git pull\n",
    "!pwd"
   ]
  },
  {
   "cell_type": "markdown",
   "metadata": {
    "id": "BKAzGJ0QTiOx"
   },
   "source": []
  },
  {
   "cell_type": "markdown",
   "metadata": {
    "id": "xxuUDPBZPpOU"
   },
   "source": [
    "# Main"
   ]
  },
  {
   "cell_type": "code",
   "execution_count": null,
   "metadata": {
    "colab": {
     "base_uri": "https://localhost:8080/"
    },
    "id": "uFAotQ5bPsRS",
    "outputId": "1abbe214-e4fe-4753-d042-f669313aa864"
   },
   "outputs": [],
   "source": [
    "%cd \"$CODE_PATH\"\n",
    "!pwd"
   ]
  },
  {
   "cell_type": "markdown",
   "metadata": {
    "id": "fXRT4cgdTv07"
   },
   "source": [
    "## Install packages"
   ]
  },
  {
   "cell_type": "code",
   "execution_count": null,
   "metadata": {
    "id": "Zk8eJztfTx-l"
   },
   "outputs": [],
   "source": [
    "#!pip install -r requirements-torch.txt"
   ]
  },
  {
   "cell_type": "code",
   "execution_count": null,
   "metadata": {
    "colab": {
     "base_uri": "https://localhost:8080/"
    },
    "id": "GQoV89X8R8i0",
    "outputId": "9760a10e-b1ab-470a-bfc1-a78c94412af3"
   },
   "outputs": [],
   "source": [
    "!uv sync"
   ]
  },
  {
   "cell_type": "code",
   "execution_count": null,
   "metadata": {
    "colab": {
     "base_uri": "https://localhost:8080/"
    },
    "id": "PT7MLNt2K48I",
    "outputId": "c6588edc-4201-4139-d577-4306d47e2b6d"
   },
   "outputs": [],
   "source": [
    "!uv pip freeze"
   ]
  },
  {
   "cell_type": "markdown",
   "metadata": {
    "id": "83PbqGbEWvMO"
   },
   "source": [
    "## Setup network tunneling"
   ]
  },
  {
   "cell_type": "code",
   "execution_count": null,
   "metadata": {
    "colab": {
     "base_uri": "https://localhost:8080/"
    },
    "id": "pFx6d_2ZWzlS",
    "outputId": "f78738db-ace4-4d56-f71d-5c509b4b9150"
   },
   "outputs": [],
   "source": [
    "!pip install pyngrok"
   ]
  },
  {
   "cell_type": "code",
   "execution_count": null,
   "metadata": {
    "colab": {
     "base_uri": "https://localhost:8080/"
    },
    "id": "ZXGrlSL4XURD",
    "outputId": "b57026b5-34b7-42dd-a3a8-045693850035"
   },
   "outputs": [],
   "source": [
    "\n",
    "import getpass\n",
    "import os\n",
    "from pyngrok import ngrok, conf\n",
    "\n",
    "def run_local_tunnel(port):\n",
    "  # Open a ngrok tunnel to the HTTP server\n",
    "  public_url = ngrok.connect(port).public_url\n",
    "  print(f\" * ngrok tunnel \\\"{public_url}\\\" -> \\\"http://127.0.0.1:{port}\\\"\")\n",
    "\n",
    "\n",
    "if 'NGROK_AUTHTOKEN' in os.environ:\n",
    "  print(\"Using NGROK_AUTHTOKEN from environment variable\")\n",
    "  conf.get_default().auth_token = os.environ['NGROK_AUTHTOKEN']\n",
    "else:\n",
    "  print(\"Using getpass to enter NGROK_AUTHTOKEN\")\n",
    "  print(\"Enter your authtoken, which can be copied from https://dashboard.ngrok.com/get-started/your-authtoken\")\n",
    "  conf.get_default().auth_token = getpass.getpass(prompt='Ngrok authtoken: ')"
   ]
  },
  {
   "cell_type": "markdown",
   "metadata": {
    "id": "S7oVWB7nT9j2"
   },
   "source": [
    "## Run"
   ]
  },
  {
   "cell_type": "code",
   "execution_count": null,
   "metadata": {
    "colab": {
     "base_uri": "https://localhost:8080/"
    },
    "id": "bV9RMxa-Vn4_",
    "outputId": "2b6d5b3f-136f-401a-cca1-6d04d89b127f"
   },
   "outputs": [],
   "source": [
    "run_local_tunnel(8501)\n",
    "!uv run streamlit run ./src/app/main.py --server.port 8501"
   ]
  }
 ],
 "metadata": {
  "accelerator": "GPU",
  "colab": {
   "gpuType": "T4",
   "provenance": [],
   "toc_visible": true
  },
  "kernelspec": {
   "display_name": "Python 3",
   "name": "python3"
  },
  "language_info": {
   "name": "python"
  }
 },
 "nbformat": 4,
 "nbformat_minor": 0
}
